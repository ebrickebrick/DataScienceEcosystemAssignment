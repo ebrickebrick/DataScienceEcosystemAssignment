{
 "cells": [
  {
   "cell_type": "markdown",
   "id": "11a0f317-2296-41f2-a48d-b28f079f5e3c",
   "metadata": {},
   "source": [
    "# Data Science Tools and Ecosystem"
   ]
  },
  {
   "cell_type": "markdown",
   "id": "92103d9c-4332-4b9d-b032-ec2be0a3c631",
   "metadata": {},
   "source": [
    "In this notebook, Data Science Tools and Ecosystem are summarized "
   ]
  },
  {
   "cell_type": "markdown",
   "id": "a8d8d74c-ffac-4fa4-ab9b-45df3b4732a9",
   "metadata": {},
   "source": [
    "**Objectives:**\n",
    "- List of commonly used libraries in Data Science\n",
    "- List of Data Science Tools\n",
    "- List of popular languages for Data Science"
   ]
  },
  {
   "cell_type": "markdown",
   "id": "1054e57d-8026-4b6c-8660-936d25d2dc92",
   "metadata": {},
   "source": [
    "Some of the popular languages that Data Scientists use are:\n",
    "1. Python\n",
    "2. Java\n",
    "3. R"
   ]
  },
  {
   "cell_type": "markdown",
   "id": "61019d54-489b-4cfa-8913-bf53e4afcdfe",
   "metadata": {},
   "source": [
    "Some of the commonly used libraries used by Data Scientists include:\n",
    "1. NumPy\n",
    "2. Matplotlib\n",
    "3. Seaborn"
   ]
  },
  {
   "cell_type": "markdown",
   "id": "3af72dd6-c781-45d1-bdd4-b4030a025acf",
   "metadata": {},
   "source": [
    "| Data Science Tools |\n",
    "| ------------------ |\n",
    "| Jupyter Lab        |\n",
    "| Apache Zeppelin    |\n",
    "| R Studio           | "
   ]
  },
  {
   "cell_type": "markdown",
   "id": "016a5681-d739-41c7-a71c-16621199fca0",
   "metadata": {},
   "source": [
    "### Below are a few examples of evaluating arithmetic expressions in Python"
   ]
  },
  {
   "cell_type": "code",
   "execution_count": 12,
   "id": "24313d74-9acf-4445-a3af-d14d454d5202",
   "metadata": {},
   "outputs": [
    {
     "data": {
      "text/plain": [
       "17"
      ]
     },
     "execution_count": 12,
     "metadata": {},
     "output_type": "execute_result"
    }
   ],
   "source": [
    "# This is a simple arithmetic expression to multiply then add integers\n",
    "(3*4)+5"
   ]
  },
  {
   "cell_type": "code",
   "execution_count": 16,
   "id": "93247b7e-d4b3-4021-a449-b9074e2f54fd",
   "metadata": {},
   "outputs": [
    {
     "data": {
      "text/plain": [
       "3.3333333333333335"
      ]
     },
     "execution_count": 16,
     "metadata": {},
     "output_type": "execute_result"
    }
   ],
   "source": [
    "# This will convert 200 minutes to hours by dividing by 60\n",
    "200/60"
   ]
  },
  {
   "cell_type": "markdown",
   "id": "0acc1f07-b5bb-45ec-99d1-075e79424480",
   "metadata": {},
   "source": [
    "## Author\n",
    "Erick Alberto Madrigal Reyes"
   ]
  },
  {
   "cell_type": "code",
   "execution_count": null,
   "id": "88c5ab9d-09f8-42b4-9e50-2c6e6ae177cc",
   "metadata": {},
   "outputs": [],
   "source": []
  }
 ],
 "metadata": {
  "kernelspec": {
   "display_name": "Python 3 (ipykernel)",
   "language": "python",
   "name": "python3"
  },
  "language_info": {
   "codemirror_mode": {
    "name": "ipython",
    "version": 3
   },
   "file_extension": ".py",
   "mimetype": "text/x-python",
   "name": "python",
   "nbconvert_exporter": "python",
   "pygments_lexer": "ipython3",
   "version": "3.12.7"
  }
 },
 "nbformat": 4,
 "nbformat_minor": 5
}
